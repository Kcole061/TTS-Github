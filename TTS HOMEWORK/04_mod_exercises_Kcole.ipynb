{
 "cells": [
  {
   "cell_type": "markdown",
   "metadata": {},
   "source": [
    "Data Science Fundamentals: Python |\n",
    "[Table of Contents](../index.ipynb)\n",
    "- - - \n",
    "<!--NAVIGATION-->\n",
    "Module 3. [Control Flow](./01_mod_control_flow.ipynb) | [Statements](./02_python_statements.ipynb) | [Functions](./03_python_functions.ipynb) | **[Exercises](./04_mod_exercises.ipynb)**"
   ]
  },
  {
   "cell_type": "markdown",
   "metadata": {},
   "source": [
    "# Control Flow Exercises"
   ]
  },
  {
   "cell_type": "markdown",
   "metadata": {},
   "source": [
    "### Exercise 1:\n",
    "Guess a number between 1 to 9 given by the user. Hint. [Random](https://docs.python.org/3/library/random.html)"
   ]
  },
  {
   "cell_type": "code",
   "execution_count": null,
   "metadata": {},
   "outputs": [],
   "source": [
    "#### this imports a random integer generator, aliased as \"rng\".\n",
    "from random import randint as rng\n",
    "#Here, a random number (randNum) can be assigned using rng(1,9) specifying the start and end points as 1 to 9.\n",
    "randNum = rng(1,9)\n",
    "guess = 0\n",
    "while randNum != guess:\n",
    "    guess = int(input(\"guess a number between 1 and 10 until you get it correct: \"))\n",
    "    if guess == randNum:\n",
    "        print(\"Good job you guessed the number!\")\n",
    "    else:\n",
    "        print(\"nope! Guess again\")\n",
    "\n"
   ]
  },
  {
   "cell_type": "markdown",
   "metadata": {},
   "source": [
    "### Exercise 2:\n",
    "Check the validity of password input by the user. Hint. [Re](https://docs.python.org/3/library/re.html) which does matching operations much like Perl.\n",
    "\n",
    "Validation:\n",
    "\n",
    "- At least 1 letter between [a-z] and 1 letter between [A-Z].\n",
    "- At least 1 number between [0-9].\n",
    "- At least 1 character from [$#@].\n",
    "- Minimum length 6 characters.\n",
    "- Maximum length 16 characters."
   ]
  },
  {
   "cell_type": "code",
   "execution_count": 21,
   "metadata": {},
   "outputs": [
    {
     "name": "stdout",
     "output_type": "stream",
     "text": [
      "Please enter a valid password:\n",
      "Valid passwords are:\n",
      "\t6-16 characters in length,\n",
      "\tContain 1+ numbers,\n",
      "\t1+ character from [$#@!], and \n",
      "\tAt least 1 upper and 1 lowercase letter.\n",
      "Input: yhhyygffLKLKLK0987\n",
      "Password length accepted\n",
      "Contains Number:  ['0987']\n",
      "Contains At least 1 letter between [a-z] and 1 letter between [A-Z]:  []\n"
     ]
    }
   ],
   "source": [
    "#This exercise is difficult for beginners, as it utilizes Regex. If you don't get it at first, thats okay, do your best.\n",
    "import re\n",
    "pwd = input('Please enter a valid password:\\nValid passwords are:\\n\\t6-16 characters in length,\\n\\tContain 1+ numbers,\\n\\t1+ character from [$#@!], and \\n\\tAt least 1 upper and 1 lowercase letter.\\nInput: ')\n",
    "\n",
    "if len(pwd) >= 6:\n",
    "    print(\"Password length accepted\")\n",
    "elif len(pwd) < 6:\n",
    "    print(\"Password not accepted\")\n",
    "elif len(pwd) <= 16:\n",
    "    print(\"Password length accepted\")\n",
    "elif len(pwd) > 16:\n",
    "    print(\"Password not accepted\")\n",
    "\n",
    "print(\"Contains Number: \",re.findall(r'[+-]?\\d+', pwd))\n",
    "print(\"Contains At least 1 letter between [a-z] and 1 letter between [A-Z]: \",re.findall(r\"[A-Za-z_][A-Za-z_]*\\Z\", pwd))\n"
   ]
  },
  {
   "cell_type": "code",
   "execution_count": null,
   "metadata": {},
   "outputs": [],
   "source": []
  },
  {
   "cell_type": "code",
   "execution_count": null,
   "metadata": {},
   "outputs": [],
   "source": []
  },
  {
   "cell_type": "markdown",
   "metadata": {},
   "source": [
    "### Exercise 3:\n",
    "Get input of the age of 3 people by user and determine oldest and youngest among them"
   ]
  },
  {
   "cell_type": "code",
   "execution_count": 25,
   "metadata": {},
   "outputs": [
    {
     "name": "stdout",
     "output_type": "stream",
     "text": [
      "Enter First Person's Age : 12\n",
      "Enter Second Person's Age : 32\n",
      "Enter Third Person's Age : 4\n",
      "Number 2 age:  32\n",
      "Age oldest to youngest [32, 12, 4]\n"
     ]
    }
   ],
   "source": [
    "number1 = int(input(\"Enter First Person's Age : \"))\n",
    "number2 = int(input(\"Enter Second Person's Age : \"))\n",
    "number3 = int(input(\"Enter Third Person's Age : \"))\n",
    "\n",
    "if number1 > number2 and number1 > number3:\n",
    "    print(\"Number 1 age: \",number1)\n",
    "elif number2 > number1 and number2 > number3:\n",
    "    print(\"Number 2 age: \",number2)\n",
    "elif number3 > number1 and number3 > number2:\n",
    "    print(\"Number 3 age: \",number3)\n",
    "\n",
    "sortedAge = sorted((number1,number2,number3), reverse=True)\n",
    "print(\"Age oldest to youngest: \", sortedAge)"
   ]
  },
  {
   "cell_type": "markdown",
   "metadata": {},
   "source": [
    "### Exercise 4:\n",
    "A student will not be allowed to sit in exam if his/her attendance is less than 75%.\n",
    "\n",
    "Take following input from user\n",
    "\n",
    "- Number of classes held\n",
    "- Number of classes attended.\n",
    "- And print percentage of class attended\n",
    "- Is student is allowed to sit in exam or not?"
   ]
  },
  {
   "cell_type": "code",
   "execution_count": 35,
   "metadata": {},
   "outputs": [
    {
     "name": "stdout",
     "output_type": "stream",
     "text": [
      "Insert number of classes: 100\n",
      "Insert number of classes attended: 90\n",
      "Class attendance percentage: 0.90 \n",
      "Student is ALLOWED in exam: 0.90 \n"
     ]
    }
   ],
   "source": [
    "#number of classes held:\n",
    "nmbrOfClass = float(input(\"Insert number of classes: \"))\n",
    "\n",
    "#number of classes attended:\n",
    "classAtten = float(input(\"Insert number of classes attended: \"))\n",
    "\n",
    "#percentage of classes\n",
    "pct = classAtten/nmbrOfClass\n",
    "\n",
    "print(\"Class attendance percentage: \"\"{:0.2f} \".format(pct))\n",
    "\n",
    "#Is student allowed to sit in exam?\n",
    "if classAtten/nmbrOfClass >= 0.75:\n",
    "    print(\"Student is ALLOWED in exam: \"\"{:0.2f} \".format(pct))\n",
    "else:\n",
    "    print(\"Student is NOT ALLOWED in exam: \"\"{:0.2f} \".format(pct))\n",
    "  \n",
    "    "
   ]
  },
  {
   "cell_type": "markdown",
   "metadata": {},
   "source": [
    "### Exercise 5:\n",
    "Get an integer N from the user and perform the following actions:\n",
    "\n",
    "Find out - \n",
    "- if N is odd, print \"weird\"\n",
    "- if N is even and in the inclusive range of 2 to 5, print \"Not Weird\"\n",
    "- if N is even and in the inclusive range of 6 to 20, print \"Weird\"\n",
    "- if N is even and greater than 20, print \"Not Weird\""
   ]
  },
  {
   "cell_type": "code",
   "execution_count": 47,
   "metadata": {},
   "outputs": [
    {
     "name": "stdout",
     "output_type": "stream",
     "text": [
      "Insert number: 40\n",
      "Not Weird\n"
     ]
    }
   ],
   "source": [
    "# Given an integer, n, perform the following conditional actions:\n",
    "# If n is odd, print Weird\n",
    "# If n is even and in the inclusive range of 2 to 5, print Not Weird\n",
    "# If n is even and in the inclusive range of 6 to 20, print Weird\n",
    "# If n is even and greater than 20, print Not Weird\n",
    "\n",
    "even = [x for x in range(2,5) if x%2 == 0]\n",
    "even2 = [x for x in range(6,20) if x%2 == 0]\n",
    "\n",
    "\n",
    "userNum = int(input(\"Insert number: \"))\n",
    "if userNum % 2 != 0:\n",
    "    print(\"Weird\")\n",
    "elif userNum in even:\n",
    "    print(\"Not Weird\")\n",
    "elif userNum in even2:\n",
    "    print(\"Weird\")\n",
    "elif userNum % 2 == 0 and userNum > 20:\n",
    "    print(\"Not Weird\")\n",
    "    \n",
    "    \n",
    "    \n",
    "    \n",
    "    \n",
    "\n",
    "\n",
    "\n",
    "\n"
   ]
  },
  {
   "cell_type": "markdown",
   "metadata": {},
   "source": [
    "\n",
    "## Extra Points\n",
    "- - -"
   ]
  },
  {
   "cell_type": "markdown",
   "metadata": {},
   "source": [
    "1. ***Optional Exercise (Extra Points)***. Write a Python program to reverse a string."
   ]
  },
  {
   "cell_type": "raw",
   "metadata": {},
   "source": [
    "Sample String : \"1234abcd\"\n",
    "Expected Output : \"dcba4321\""
   ]
  },
  {
   "cell_type": "code",
   "execution_count": 58,
   "metadata": {},
   "outputs": [
    {
     "name": "stdout",
     "output_type": "stream",
     "text": [
      "dcba4321\n"
     ]
    }
   ],
   "source": [
    "ss = \"1234abcd\"\n",
    "rs = ss[::-1]\n",
    "print(rs)"
   ]
  },
  {
   "cell_type": "markdown",
   "metadata": {},
   "source": [
    "2. ***Optional Exercise (Extra Points)***. Write a Python function to multiply all the numbers in a list. "
   ]
  },
  {
   "cell_type": "raw",
   "metadata": {},
   "source": [
    "Sample List : (8, 2, 3, -1, 7)\n",
    "Expected Output : -336"
   ]
  },
  {
   "cell_type": "code",
   "execution_count": 62,
   "metadata": {},
   "outputs": [
    {
     "name": "stdout",
     "output_type": "stream",
     "text": [
      "Expected Output:  -336\n"
     ]
    }
   ],
   "source": [
    "import numpy\n",
    "def multLs(LS):\n",
    "    return numpy.prod(LS)\n",
    "\n",
    "samLs = [8, 2, 3, -1, 7]\n",
    "print(\"Expected Output: \",multLs(samLs))\n"
   ]
  },
  {
   "cell_type": "markdown",
   "metadata": {},
   "source": [
    "3. ***Optional Exercise (Extra Points)***. Write a Python function that accepts a string and calculate the number of upper case letters and lower case letters."
   ]
  },
  {
   "cell_type": "raw",
   "metadata": {},
   "source": [
    "Sample String : 'The quick Brow Fox'\n",
    "Expected Output :\n",
    "No. of Upper case characters : 3\n",
    "No. of Lower case Characters : 12"
   ]
  },
  {
   "cell_type": "code",
   "execution_count": null,
   "metadata": {},
   "outputs": [],
   "source": []
  },
  {
   "cell_type": "markdown",
   "metadata": {},
   "source": [
    "- - -\n",
    "\n",
    "Copyright © 2020 Qualex Consulting Services Incorporated."
   ]
  }
 ],
 "metadata": {
  "kernelspec": {
   "display_name": "Python 3",
   "language": "python",
   "name": "python3"
  },
  "language_info": {
   "codemirror_mode": {
    "name": "ipython",
    "version": 3
   },
   "file_extension": ".py",
   "mimetype": "text/x-python",
   "name": "python",
   "nbconvert_exporter": "python",
   "pygments_lexer": "ipython3",
   "version": "3.7.6"
  }
 },
 "nbformat": 4,
 "nbformat_minor": 4
}
