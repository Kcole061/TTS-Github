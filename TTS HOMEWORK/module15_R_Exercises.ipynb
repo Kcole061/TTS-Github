{
 "cells": [
  {
   "cell_type": "markdown",
   "metadata": {},
   "source": [
    "Data Science Fundamentals: R |\n",
    "[Table of Contents](../index.ipynb)\n",
    "- - - \n",
    "<!--NAVIGATION-->\n",
    "Module 15. [Date Time Values](./00.ipynb) | [readr](./01.ipynb) | [dplyr](./02.ipynb) | [Exercises](./03.ipynb)"
   ]
  },
  {
   "cell_type": "markdown",
   "metadata": {},
   "source": [
    "# Data Transformation with R"
   ]
  },
  {
   "cell_type": "markdown",
   "metadata": {},
   "source": [
    "## Exercises"
   ]
  },
  {
   "cell_type": "code",
   "execution_count": 18,
   "metadata": {},
   "outputs": [
    {
     "name": "stderr",
     "output_type": "stream",
     "text": [
      "also installing the dependency 'jsonlite'\n",
      "\n"
     ]
    },
    {
     "name": "stdout",
     "output_type": "stream",
     "text": [
      "\n",
      "  There is a binary version available but the source version is later:\n",
      "         binary source needs_compilation\n",
      "jsonlite  1.7.2  1.8.0              TRUE\n",
      "\n",
      "  Binaries will be installed\n",
      "package 'jsonlite' successfully unpacked and MD5 sums checked\n"
     ]
    },
    {
     "name": "stderr",
     "output_type": "stream",
     "text": [
      "Warning message:\n",
      "\"cannot remove prior installation of package 'jsonlite'\"Warning message in file.copy(savedcopy, lib, recursive = TRUE):\n",
      "\"problem copying C:\\Users\\kahli\\Anaconda3\\envs\\r tut\\Lib\\R\\library\\00LOCK\\jsonlite\\libs\\x64\\jsonlite.dll to C:\\Users\\kahli\\Anaconda3\\envs\\r tut\\Lib\\R\\library\\jsonlite\\libs\\x64\\jsonlite.dll: Permission denied\"Warning message:\n",
      "\"restored 'jsonlite'\""
     ]
    },
    {
     "name": "stdout",
     "output_type": "stream",
     "text": [
      "package 'tidyverse' successfully unpacked and MD5 sums checked\n",
      "\n",
      "The downloaded binary packages are in\n",
      "\tC:\\Users\\kahli\\AppData\\Local\\Temp\\RtmpQp5URc\\downloaded_packages\n"
     ]
    }
   ],
   "source": [
    "install.packages(\"tidyverse\")\n"
   ]
  },
  {
   "cell_type": "markdown",
   "metadata": {},
   "source": [
    "### Exercise 1. \n",
    "\n",
    "List all example files available with the ```readr``` library.\n"
   ]
  },
  {
   "cell_type": "code",
   "execution_count": 19,
   "metadata": {},
   "outputs": [
    {
     "name": "stderr",
     "output_type": "stream",
     "text": [
      "Warning message:\n",
      "\"package 'tidyverse' was built under R version 3.6.3\""
     ]
    },
    {
     "ename": "ERROR",
     "evalue": "Error: package or namespace load failed for 'tidyverse' in loadNamespace(j <- i[[1L]], c(lib.loc, .libPaths()), versionCheck = vI[[j]]):\n namespace 'jsonlite' 1.6 is already loaded, but >= 1.7.2 is required\n",
     "output_type": "error",
     "traceback": [
      "Error: package or namespace load failed for 'tidyverse' in loadNamespace(j <- i[[1L]], c(lib.loc, .libPaths()), versionCheck = vI[[j]]):\n namespace 'jsonlite' 1.6 is already loaded, but >= 1.7.2 is required\nTraceback:\n",
      "1. library(tidyverse)",
      "2. tryCatch({\n .     attr(package, \"LibPath\") <- which.lib.loc\n .     ns <- loadNamespace(package, lib.loc)\n .     env <- attachNamespace(ns, pos = pos, deps, exclude, include.only)\n . }, error = function(e) {\n .     P <- if (!is.null(cc <- conditionCall(e))) \n .         paste(\" in\", deparse(cc)[1L])\n .     else \"\"\n .     msg <- gettextf(\"package or namespace load failed for %s%s:\\n %s\", \n .         sQuote(package), P, conditionMessage(e))\n .     if (logical.return) \n .         message(paste(\"Error:\", msg), domain = NA)\n .     else stop(msg, call. = FALSE, domain = NA)\n . })",
      "3. tryCatchList(expr, classes, parentenv, handlers)",
      "4. tryCatchOne(expr, names, parentenv, handlers[[1L]])",
      "5. value[[3L]](cond)",
      "6. stop(msg, call. = FALSE, domain = NA)"
     ]
    }
   ],
   "source": [
    "# exercise 1\n",
    "library(tidyverse)\n",
    "library(readxl)"
   ]
  },
  {
   "cell_type": "markdown",
   "metadata": {},
   "source": [
    "### Exercise 2.\n",
    "\n",
    "Read the mtcars.csv file."
   ]
  },
  {
   "cell_type": "code",
   "execution_count": 20,
   "metadata": {},
   "outputs": [
    {
     "name": "stderr",
     "output_type": "stream",
     "text": [
      "\n",
      "-- Column specification --------------------------------------------------------\n",
      "cols(\n",
      "  mpg = col_double(),\n",
      "  cyl = col_double(),\n",
      "  disp = col_double(),\n",
      "  hp = col_double(),\n",
      "  drat = col_double(),\n",
      "  wt = col_double(),\n",
      "  qsec = col_double(),\n",
      "  vs = col_double(),\n",
      "  am = col_double(),\n",
      "  gear = col_double(),\n",
      "  carb = col_double()\n",
      ")\n",
      "\n"
     ]
    }
   ],
   "source": [
    "# exercise 2\n",
    "setwd(\"C:/Users/kahli/Desktop\") \n",
    "mtcars <- read_csv(readr_example(\"mtcars.csv\"))"
   ]
  },
  {
   "cell_type": "markdown",
   "metadata": {},
   "source": [
    "### Exercise 3.\n",
    "\n",
    "Read the first 10 lines from the mtcars.csv file."
   ]
  },
  {
   "cell_type": "code",
   "execution_count": 21,
   "metadata": {},
   "outputs": [
    {
     "data": {
      "text/html": [
       "<table>\n",
       "<thead><tr><th scope=col>mpg</th><th scope=col>cyl</th><th scope=col>disp</th><th scope=col>hp</th><th scope=col>drat</th><th scope=col>wt</th><th scope=col>qsec</th><th scope=col>vs</th><th scope=col>am</th><th scope=col>gear</th><th scope=col>carb</th></tr></thead>\n",
       "<tbody>\n",
       "\t<tr><td>21.0 </td><td>6    </td><td>160.0</td><td>110  </td><td>3.90 </td><td>2.620</td><td>16.46</td><td>0    </td><td>1    </td><td>4    </td><td>4    </td></tr>\n",
       "\t<tr><td>21.0 </td><td>6    </td><td>160.0</td><td>110  </td><td>3.90 </td><td>2.875</td><td>17.02</td><td>0    </td><td>1    </td><td>4    </td><td>4    </td></tr>\n",
       "\t<tr><td>22.8 </td><td>4    </td><td>108.0</td><td> 93  </td><td>3.85 </td><td>2.320</td><td>18.61</td><td>1    </td><td>1    </td><td>4    </td><td>1    </td></tr>\n",
       "\t<tr><td>21.4 </td><td>6    </td><td>258.0</td><td>110  </td><td>3.08 </td><td>3.215</td><td>19.44</td><td>1    </td><td>0    </td><td>3    </td><td>1    </td></tr>\n",
       "\t<tr><td>18.7 </td><td>8    </td><td>360.0</td><td>175  </td><td>3.15 </td><td>3.440</td><td>17.02</td><td>0    </td><td>0    </td><td>3    </td><td>2    </td></tr>\n",
       "\t<tr><td>18.1 </td><td>6    </td><td>225.0</td><td>105  </td><td>2.76 </td><td>3.460</td><td>20.22</td><td>1    </td><td>0    </td><td>3    </td><td>1    </td></tr>\n",
       "\t<tr><td>14.3 </td><td>8    </td><td>360.0</td><td>245  </td><td>3.21 </td><td>3.570</td><td>15.84</td><td>0    </td><td>0    </td><td>3    </td><td>4    </td></tr>\n",
       "\t<tr><td>24.4 </td><td>4    </td><td>146.7</td><td> 62  </td><td>3.69 </td><td>3.190</td><td>20.00</td><td>1    </td><td>0    </td><td>4    </td><td>2    </td></tr>\n",
       "\t<tr><td>22.8 </td><td>4    </td><td>140.8</td><td> 95  </td><td>3.92 </td><td>3.150</td><td>22.90</td><td>1    </td><td>0    </td><td>4    </td><td>2    </td></tr>\n",
       "\t<tr><td>19.2 </td><td>6    </td><td>167.6</td><td>123  </td><td>3.92 </td><td>3.440</td><td>18.30</td><td>1    </td><td>0    </td><td>4    </td><td>4    </td></tr>\n",
       "</tbody>\n",
       "</table>\n"
      ],
      "text/latex": [
       "\\begin{tabular}{r|lllllllllll}\n",
       " mpg & cyl & disp & hp & drat & wt & qsec & vs & am & gear & carb\\\\\n",
       "\\hline\n",
       "\t 21.0  & 6     & 160.0 & 110   & 3.90  & 2.620 & 16.46 & 0     & 1     & 4     & 4    \\\\\n",
       "\t 21.0  & 6     & 160.0 & 110   & 3.90  & 2.875 & 17.02 & 0     & 1     & 4     & 4    \\\\\n",
       "\t 22.8  & 4     & 108.0 &  93   & 3.85  & 2.320 & 18.61 & 1     & 1     & 4     & 1    \\\\\n",
       "\t 21.4  & 6     & 258.0 & 110   & 3.08  & 3.215 & 19.44 & 1     & 0     & 3     & 1    \\\\\n",
       "\t 18.7  & 8     & 360.0 & 175   & 3.15  & 3.440 & 17.02 & 0     & 0     & 3     & 2    \\\\\n",
       "\t 18.1  & 6     & 225.0 & 105   & 2.76  & 3.460 & 20.22 & 1     & 0     & 3     & 1    \\\\\n",
       "\t 14.3  & 8     & 360.0 & 245   & 3.21  & 3.570 & 15.84 & 0     & 0     & 3     & 4    \\\\\n",
       "\t 24.4  & 4     & 146.7 &  62   & 3.69  & 3.190 & 20.00 & 1     & 0     & 4     & 2    \\\\\n",
       "\t 22.8  & 4     & 140.8 &  95   & 3.92  & 3.150 & 22.90 & 1     & 0     & 4     & 2    \\\\\n",
       "\t 19.2  & 6     & 167.6 & 123   & 3.92  & 3.440 & 18.30 & 1     & 0     & 4     & 4    \\\\\n",
       "\\end{tabular}\n"
      ],
      "text/markdown": [
       "\n",
       "| mpg | cyl | disp | hp | drat | wt | qsec | vs | am | gear | carb |\n",
       "|---|---|---|---|---|---|---|---|---|---|---|\n",
       "| 21.0  | 6     | 160.0 | 110   | 3.90  | 2.620 | 16.46 | 0     | 1     | 4     | 4     |\n",
       "| 21.0  | 6     | 160.0 | 110   | 3.90  | 2.875 | 17.02 | 0     | 1     | 4     | 4     |\n",
       "| 22.8  | 4     | 108.0 |  93   | 3.85  | 2.320 | 18.61 | 1     | 1     | 4     | 1     |\n",
       "| 21.4  | 6     | 258.0 | 110   | 3.08  | 3.215 | 19.44 | 1     | 0     | 3     | 1     |\n",
       "| 18.7  | 8     | 360.0 | 175   | 3.15  | 3.440 | 17.02 | 0     | 0     | 3     | 2     |\n",
       "| 18.1  | 6     | 225.0 | 105   | 2.76  | 3.460 | 20.22 | 1     | 0     | 3     | 1     |\n",
       "| 14.3  | 8     | 360.0 | 245   | 3.21  | 3.570 | 15.84 | 0     | 0     | 3     | 4     |\n",
       "| 24.4  | 4     | 146.7 |  62   | 3.69  | 3.190 | 20.00 | 1     | 0     | 4     | 2     |\n",
       "| 22.8  | 4     | 140.8 |  95   | 3.92  | 3.150 | 22.90 | 1     | 0     | 4     | 2     |\n",
       "| 19.2  | 6     | 167.6 | 123   | 3.92  | 3.440 | 18.30 | 1     | 0     | 4     | 4     |\n",
       "\n"
      ],
      "text/plain": [
       "   mpg  cyl disp  hp  drat wt    qsec  vs am gear carb\n",
       "1  21.0 6   160.0 110 3.90 2.620 16.46 0  1  4    4   \n",
       "2  21.0 6   160.0 110 3.90 2.875 17.02 0  1  4    4   \n",
       "3  22.8 4   108.0  93 3.85 2.320 18.61 1  1  4    1   \n",
       "4  21.4 6   258.0 110 3.08 3.215 19.44 1  0  3    1   \n",
       "5  18.7 8   360.0 175 3.15 3.440 17.02 0  0  3    2   \n",
       "6  18.1 6   225.0 105 2.76 3.460 20.22 1  0  3    1   \n",
       "7  14.3 8   360.0 245 3.21 3.570 15.84 0  0  3    4   \n",
       "8  24.4 4   146.7  62 3.69 3.190 20.00 1  0  4    2   \n",
       "9  22.8 4   140.8  95 3.92 3.150 22.90 1  0  4    2   \n",
       "10 19.2 6   167.6 123 3.92 3.440 18.30 1  0  4    4   "
      ]
     },
     "metadata": {},
     "output_type": "display_data"
    }
   ],
   "source": [
    "# exercise 3\n",
    "head(mtcars,10)"
   ]
  },
  {
   "cell_type": "markdown",
   "metadata": {},
   "source": [
    "\n",
    "### Exercise 4\n",
    "Read the example.log file.\n"
   ]
  },
  {
   "cell_type": "code",
   "execution_count": 23,
   "metadata": {},
   "outputs": [
    {
     "name": "stderr",
     "output_type": "stream",
     "text": [
      "\n",
      "-- Column specification --------------------------------------------------------\n",
      "cols(\n",
      "  X1 = col_character(),\n",
      "  X2 = col_logical(),\n",
      "  X3 = col_character(),\n",
      "  X4 = col_character(),\n",
      "  X5 = col_character(),\n",
      "  X6 = col_double(),\n",
      "  X7 = col_double()\n",
      ")\n",
      "\n"
     ]
    },
    {
     "data": {
      "text/html": [
       "<table>\n",
       "<thead><tr><th scope=col>X1</th><th scope=col>X2</th><th scope=col>X3</th><th scope=col>X4</th><th scope=col>X5</th><th scope=col>X6</th><th scope=col>X7</th></tr></thead>\n",
       "<tbody>\n",
       "\t<tr><td>172.21.13.45                                    </td><td>NA                                              </td><td>Microsoft\\JohnDoe                              </td><td>08/Apr/2001:17:39:04 -0800                      </td><td>GET /scripts/iisadmin/ism.dll?http/serv HTTP/1.0</td><td>200                                             </td><td>3401                                            </td></tr>\n",
       "\t<tr><td>127.0.0.1                                       </td><td>NA                                              </td><td>frank                                           </td><td>10/Oct/2000:13:55:36 -0700                      </td><td>GET /apache_pb.gif HTTP/1.0                     </td><td>200                                             </td><td>2326                                            </td></tr>\n",
       "</tbody>\n",
       "</table>\n"
      ],
      "text/latex": [
       "\\begin{tabular}{r|lllllll}\n",
       " X1 & X2 & X3 & X4 & X5 & X6 & X7\\\\\n",
       "\\hline\n",
       "\t 172.21.13.45                                     & NA                                               & Microsoft\\textbackslash{}JohnDoe                & 08/Apr/2001:17:39:04 -0800                       & GET /scripts/iisadmin/ism.dll?http/serv HTTP/1.0 & 200                                              & 3401                                            \\\\\n",
       "\t 127.0.0.1                                          & NA                                                 & frank                                              & 10/Oct/2000:13:55:36 -0700                         & GET /apache\\_pb.gif HTTP/1.0                      & 200                                                & 2326                                              \\\\\n",
       "\\end{tabular}\n"
      ],
      "text/markdown": [
       "\n",
       "| X1 | X2 | X3 | X4 | X5 | X6 | X7 |\n",
       "|---|---|---|---|---|---|---|\n",
       "| 172.21.13.45                                     | NA                                               | Microsoft\\JohnDoe                               | 08/Apr/2001:17:39:04 -0800                       | GET /scripts/iisadmin/ism.dll?http/serv HTTP/1.0 | 200                                              | 3401                                             |\n",
       "| 127.0.0.1                                        | NA                                               | frank                                            | 10/Oct/2000:13:55:36 -0700                       | GET /apache_pb.gif HTTP/1.0                      | 200                                              | 2326                                             |\n",
       "\n"
      ],
      "text/plain": [
       "  X1           X2 X3                 X4                        \n",
       "1 172.21.13.45 NA Microsoft\\\\JohnDoe 08/Apr/2001:17:39:04 -0800\n",
       "2 127.0.0.1    NA frank              10/Oct/2000:13:55:36 -0700\n",
       "  X5                                               X6  X7  \n",
       "1 GET /scripts/iisadmin/ism.dll?http/serv HTTP/1.0 200 3401\n",
       "2 GET /apache_pb.gif HTTP/1.0                      200 2326"
      ]
     },
     "metadata": {},
     "output_type": "display_data"
    }
   ],
   "source": [
    "# exercise 4\n",
    "\n",
    "read_log(readr_example(\"example.log\"))"
   ]
  },
  {
   "cell_type": "markdown",
   "metadata": {},
   "source": [
    "### Exercise 5\n",
    "List all sheets in readxl_example(\"datasets.xlsx\").\n"
   ]
  },
  {
   "cell_type": "code",
   "execution_count": 25,
   "metadata": {},
   "outputs": [
    {
     "ename": "ERROR",
     "evalue": "Error in excel_sheets(readxl_example(\"datasets.xlsx\")): could not find function \"excel_sheets\"\n",
     "output_type": "error",
     "traceback": [
      "Error in excel_sheets(readxl_example(\"datasets.xlsx\")): could not find function \"excel_sheets\"\nTraceback:\n"
     ]
    }
   ],
   "source": [
    "# exercise 5\n",
    "excel_sheets(readxl_example(\"datasets.xlsx\"))"
   ]
  },
  {
   "cell_type": "markdown",
   "metadata": {},
   "source": [
    "### Exercise 6\n",
    "Read data from the last sheet."
   ]
  },
  {
   "cell_type": "code",
   "execution_count": 18,
   "metadata": {},
   "outputs": [
    {
     "data": {
      "text/html": [
       "<table>\n",
       "<caption>A tibble: 1000 × 5</caption>\n",
       "<thead>\n",
       "\t<tr><th scope=col>lat</th><th scope=col>long</th><th scope=col>depth</th><th scope=col>mag</th><th scope=col>stations</th></tr>\n",
       "\t<tr><th scope=col>&lt;dbl&gt;</th><th scope=col>&lt;dbl&gt;</th><th scope=col>&lt;dbl&gt;</th><th scope=col>&lt;dbl&gt;</th><th scope=col>&lt;dbl&gt;</th></tr>\n",
       "</thead>\n",
       "<tbody>\n",
       "\t<tr><td>-20.42</td><td>181.62</td><td>562</td><td>4.8</td><td>41</td></tr>\n",
       "\t<tr><td>-20.62</td><td>181.03</td><td>650</td><td>4.2</td><td>15</td></tr>\n",
       "\t<tr><td>-26.00</td><td>184.10</td><td> 42</td><td>5.4</td><td>43</td></tr>\n",
       "\t<tr><td>-17.97</td><td>181.66</td><td>626</td><td>4.1</td><td>19</td></tr>\n",
       "\t<tr><td>-20.42</td><td>181.96</td><td>649</td><td>4.0</td><td>11</td></tr>\n",
       "\t<tr><td>-19.68</td><td>184.31</td><td>195</td><td>4.0</td><td>12</td></tr>\n",
       "\t<tr><td>-11.70</td><td>166.10</td><td> 82</td><td>4.8</td><td>43</td></tr>\n",
       "\t<tr><td>-28.11</td><td>181.93</td><td>194</td><td>4.4</td><td>15</td></tr>\n",
       "\t<tr><td>-28.74</td><td>181.74</td><td>211</td><td>4.7</td><td>35</td></tr>\n",
       "\t<tr><td>-17.47</td><td>179.59</td><td>622</td><td>4.3</td><td>19</td></tr>\n",
       "\t<tr><td>-21.44</td><td>180.69</td><td>583</td><td>4.4</td><td>13</td></tr>\n",
       "\t<tr><td>-12.26</td><td>167.00</td><td>249</td><td>4.6</td><td>16</td></tr>\n",
       "\t<tr><td>-18.54</td><td>182.11</td><td>554</td><td>4.4</td><td>19</td></tr>\n",
       "\t<tr><td>-21.00</td><td>181.66</td><td>600</td><td>4.4</td><td>10</td></tr>\n",
       "\t<tr><td>-20.70</td><td>169.92</td><td>139</td><td>6.1</td><td>94</td></tr>\n",
       "\t<tr><td>-15.94</td><td>184.95</td><td>306</td><td>4.3</td><td>11</td></tr>\n",
       "\t<tr><td>-13.64</td><td>165.96</td><td> 50</td><td>6.0</td><td>83</td></tr>\n",
       "\t<tr><td>-17.83</td><td>181.50</td><td>590</td><td>4.5</td><td>21</td></tr>\n",
       "\t<tr><td>-23.50</td><td>179.78</td><td>570</td><td>4.4</td><td>13</td></tr>\n",
       "\t<tr><td>-22.63</td><td>180.31</td><td>598</td><td>4.4</td><td>18</td></tr>\n",
       "\t<tr><td>-20.84</td><td>181.16</td><td>576</td><td>4.5</td><td>17</td></tr>\n",
       "\t<tr><td>-10.98</td><td>166.32</td><td>211</td><td>4.2</td><td>12</td></tr>\n",
       "\t<tr><td>-23.30</td><td>180.16</td><td>512</td><td>4.4</td><td>18</td></tr>\n",
       "\t<tr><td>-30.20</td><td>182.00</td><td>125</td><td>4.7</td><td>22</td></tr>\n",
       "\t<tr><td>-19.66</td><td>180.28</td><td>431</td><td>5.4</td><td>57</td></tr>\n",
       "\t<tr><td>-17.94</td><td>181.49</td><td>537</td><td>4.0</td><td>15</td></tr>\n",
       "\t<tr><td>-14.72</td><td>167.51</td><td>155</td><td>4.6</td><td>18</td></tr>\n",
       "\t<tr><td>-16.46</td><td>180.79</td><td>498</td><td>5.2</td><td>79</td></tr>\n",
       "\t<tr><td>-20.97</td><td>181.47</td><td>582</td><td>4.5</td><td>25</td></tr>\n",
       "\t<tr><td>-19.84</td><td>182.37</td><td>328</td><td>4.4</td><td>17</td></tr>\n",
       "\t<tr><td>⋮</td><td>⋮</td><td>⋮</td><td>⋮</td><td>⋮</td></tr>\n",
       "\t<tr><td>-25.79</td><td>182.38</td><td>172</td><td>4.4</td><td> 14</td></tr>\n",
       "\t<tr><td>-23.75</td><td>184.50</td><td> 54</td><td>5.2</td><td> 74</td></tr>\n",
       "\t<tr><td>-24.10</td><td>184.50</td><td> 68</td><td>4.7</td><td> 23</td></tr>\n",
       "\t<tr><td>-18.56</td><td>169.05</td><td>217</td><td>4.9</td><td> 35</td></tr>\n",
       "\t<tr><td>-23.30</td><td>184.68</td><td>102</td><td>4.9</td><td> 27</td></tr>\n",
       "\t<tr><td>-17.03</td><td>185.74</td><td>178</td><td>4.2</td><td> 32</td></tr>\n",
       "\t<tr><td>-20.77</td><td>183.71</td><td>251</td><td>4.4</td><td> 47</td></tr>\n",
       "\t<tr><td>-28.10</td><td>183.50</td><td> 42</td><td>4.4</td><td> 17</td></tr>\n",
       "\t<tr><td>-18.83</td><td>182.26</td><td>575</td><td>4.3</td><td> 11</td></tr>\n",
       "\t<tr><td>-23.00</td><td>170.70</td><td> 43</td><td>4.9</td><td> 20</td></tr>\n",
       "\t<tr><td>-20.82</td><td>181.67</td><td>577</td><td>5.0</td><td> 67</td></tr>\n",
       "\t<tr><td>-22.95</td><td>170.56</td><td> 42</td><td>4.7</td><td> 21</td></tr>\n",
       "\t<tr><td>-28.22</td><td>183.60</td><td> 75</td><td>4.9</td><td> 49</td></tr>\n",
       "\t<tr><td>-27.99</td><td>183.50</td><td> 71</td><td>4.3</td><td> 22</td></tr>\n",
       "\t<tr><td>-15.54</td><td>187.15</td><td> 60</td><td>4.5</td><td> 17</td></tr>\n",
       "\t<tr><td>-12.37</td><td>166.93</td><td>291</td><td>4.2</td><td> 16</td></tr>\n",
       "\t<tr><td>-22.33</td><td>171.66</td><td>125</td><td>5.2</td><td> 51</td></tr>\n",
       "\t<tr><td>-22.70</td><td>170.30</td><td> 69</td><td>4.8</td><td> 27</td></tr>\n",
       "\t<tr><td>-17.86</td><td>181.30</td><td>614</td><td>4.0</td><td> 12</td></tr>\n",
       "\t<tr><td>-16.00</td><td>184.53</td><td>108</td><td>4.7</td><td> 33</td></tr>\n",
       "\t<tr><td>-20.73</td><td>181.42</td><td>575</td><td>4.3</td><td> 18</td></tr>\n",
       "\t<tr><td>-15.45</td><td>181.42</td><td>409</td><td>4.3</td><td> 27</td></tr>\n",
       "\t<tr><td>-20.05</td><td>183.86</td><td>243</td><td>4.9</td><td> 65</td></tr>\n",
       "\t<tr><td>-17.95</td><td>181.37</td><td>642</td><td>4.0</td><td> 17</td></tr>\n",
       "\t<tr><td>-17.70</td><td>188.10</td><td> 45</td><td>4.2</td><td> 10</td></tr>\n",
       "\t<tr><td>-25.93</td><td>179.54</td><td>470</td><td>4.4</td><td> 22</td></tr>\n",
       "\t<tr><td>-12.28</td><td>167.06</td><td>248</td><td>4.7</td><td> 35</td></tr>\n",
       "\t<tr><td>-20.13</td><td>184.20</td><td>244</td><td>4.5</td><td> 34</td></tr>\n",
       "\t<tr><td>-17.40</td><td>187.80</td><td> 40</td><td>4.5</td><td> 14</td></tr>\n",
       "\t<tr><td>-21.59</td><td>170.56</td><td>165</td><td>6.0</td><td>119</td></tr>\n",
       "</tbody>\n",
       "</table>\n"
      ],
      "text/latex": [
       "A tibble: 1000 × 5\n",
       "\\begin{tabular}{lllll}\n",
       " lat & long & depth & mag & stations\\\\\n",
       " <dbl> & <dbl> & <dbl> & <dbl> & <dbl>\\\\\n",
       "\\hline\n",
       "\t -20.42 & 181.62 & 562 & 4.8 & 41\\\\\n",
       "\t -20.62 & 181.03 & 650 & 4.2 & 15\\\\\n",
       "\t -26.00 & 184.10 &  42 & 5.4 & 43\\\\\n",
       "\t -17.97 & 181.66 & 626 & 4.1 & 19\\\\\n",
       "\t -20.42 & 181.96 & 649 & 4.0 & 11\\\\\n",
       "\t -19.68 & 184.31 & 195 & 4.0 & 12\\\\\n",
       "\t -11.70 & 166.10 &  82 & 4.8 & 43\\\\\n",
       "\t -28.11 & 181.93 & 194 & 4.4 & 15\\\\\n",
       "\t -28.74 & 181.74 & 211 & 4.7 & 35\\\\\n",
       "\t -17.47 & 179.59 & 622 & 4.3 & 19\\\\\n",
       "\t -21.44 & 180.69 & 583 & 4.4 & 13\\\\\n",
       "\t -12.26 & 167.00 & 249 & 4.6 & 16\\\\\n",
       "\t -18.54 & 182.11 & 554 & 4.4 & 19\\\\\n",
       "\t -21.00 & 181.66 & 600 & 4.4 & 10\\\\\n",
       "\t -20.70 & 169.92 & 139 & 6.1 & 94\\\\\n",
       "\t -15.94 & 184.95 & 306 & 4.3 & 11\\\\\n",
       "\t -13.64 & 165.96 &  50 & 6.0 & 83\\\\\n",
       "\t -17.83 & 181.50 & 590 & 4.5 & 21\\\\\n",
       "\t -23.50 & 179.78 & 570 & 4.4 & 13\\\\\n",
       "\t -22.63 & 180.31 & 598 & 4.4 & 18\\\\\n",
       "\t -20.84 & 181.16 & 576 & 4.5 & 17\\\\\n",
       "\t -10.98 & 166.32 & 211 & 4.2 & 12\\\\\n",
       "\t -23.30 & 180.16 & 512 & 4.4 & 18\\\\\n",
       "\t -30.20 & 182.00 & 125 & 4.7 & 22\\\\\n",
       "\t -19.66 & 180.28 & 431 & 5.4 & 57\\\\\n",
       "\t -17.94 & 181.49 & 537 & 4.0 & 15\\\\\n",
       "\t -14.72 & 167.51 & 155 & 4.6 & 18\\\\\n",
       "\t -16.46 & 180.79 & 498 & 5.2 & 79\\\\\n",
       "\t -20.97 & 181.47 & 582 & 4.5 & 25\\\\\n",
       "\t -19.84 & 182.37 & 328 & 4.4 & 17\\\\\n",
       "\t ⋮ & ⋮ & ⋮ & ⋮ & ⋮\\\\\n",
       "\t -25.79 & 182.38 & 172 & 4.4 &  14\\\\\n",
       "\t -23.75 & 184.50 &  54 & 5.2 &  74\\\\\n",
       "\t -24.10 & 184.50 &  68 & 4.7 &  23\\\\\n",
       "\t -18.56 & 169.05 & 217 & 4.9 &  35\\\\\n",
       "\t -23.30 & 184.68 & 102 & 4.9 &  27\\\\\n",
       "\t -17.03 & 185.74 & 178 & 4.2 &  32\\\\\n",
       "\t -20.77 & 183.71 & 251 & 4.4 &  47\\\\\n",
       "\t -28.10 & 183.50 &  42 & 4.4 &  17\\\\\n",
       "\t -18.83 & 182.26 & 575 & 4.3 &  11\\\\\n",
       "\t -23.00 & 170.70 &  43 & 4.9 &  20\\\\\n",
       "\t -20.82 & 181.67 & 577 & 5.0 &  67\\\\\n",
       "\t -22.95 & 170.56 &  42 & 4.7 &  21\\\\\n",
       "\t -28.22 & 183.60 &  75 & 4.9 &  49\\\\\n",
       "\t -27.99 & 183.50 &  71 & 4.3 &  22\\\\\n",
       "\t -15.54 & 187.15 &  60 & 4.5 &  17\\\\\n",
       "\t -12.37 & 166.93 & 291 & 4.2 &  16\\\\\n",
       "\t -22.33 & 171.66 & 125 & 5.2 &  51\\\\\n",
       "\t -22.70 & 170.30 &  69 & 4.8 &  27\\\\\n",
       "\t -17.86 & 181.30 & 614 & 4.0 &  12\\\\\n",
       "\t -16.00 & 184.53 & 108 & 4.7 &  33\\\\\n",
       "\t -20.73 & 181.42 & 575 & 4.3 &  18\\\\\n",
       "\t -15.45 & 181.42 & 409 & 4.3 &  27\\\\\n",
       "\t -20.05 & 183.86 & 243 & 4.9 &  65\\\\\n",
       "\t -17.95 & 181.37 & 642 & 4.0 &  17\\\\\n",
       "\t -17.70 & 188.10 &  45 & 4.2 &  10\\\\\n",
       "\t -25.93 & 179.54 & 470 & 4.4 &  22\\\\\n",
       "\t -12.28 & 167.06 & 248 & 4.7 &  35\\\\\n",
       "\t -20.13 & 184.20 & 244 & 4.5 &  34\\\\\n",
       "\t -17.40 & 187.80 &  40 & 4.5 &  14\\\\\n",
       "\t -21.59 & 170.56 & 165 & 6.0 & 119\\\\\n",
       "\\end{tabular}\n"
      ],
      "text/markdown": [
       "\n",
       "A tibble: 1000 × 5\n",
       "\n",
       "| lat &lt;dbl&gt; | long &lt;dbl&gt; | depth &lt;dbl&gt; | mag &lt;dbl&gt; | stations &lt;dbl&gt; |\n",
       "|---|---|---|---|---|\n",
       "| -20.42 | 181.62 | 562 | 4.8 | 41 |\n",
       "| -20.62 | 181.03 | 650 | 4.2 | 15 |\n",
       "| -26.00 | 184.10 |  42 | 5.4 | 43 |\n",
       "| -17.97 | 181.66 | 626 | 4.1 | 19 |\n",
       "| -20.42 | 181.96 | 649 | 4.0 | 11 |\n",
       "| -19.68 | 184.31 | 195 | 4.0 | 12 |\n",
       "| -11.70 | 166.10 |  82 | 4.8 | 43 |\n",
       "| -28.11 | 181.93 | 194 | 4.4 | 15 |\n",
       "| -28.74 | 181.74 | 211 | 4.7 | 35 |\n",
       "| -17.47 | 179.59 | 622 | 4.3 | 19 |\n",
       "| -21.44 | 180.69 | 583 | 4.4 | 13 |\n",
       "| -12.26 | 167.00 | 249 | 4.6 | 16 |\n",
       "| -18.54 | 182.11 | 554 | 4.4 | 19 |\n",
       "| -21.00 | 181.66 | 600 | 4.4 | 10 |\n",
       "| -20.70 | 169.92 | 139 | 6.1 | 94 |\n",
       "| -15.94 | 184.95 | 306 | 4.3 | 11 |\n",
       "| -13.64 | 165.96 |  50 | 6.0 | 83 |\n",
       "| -17.83 | 181.50 | 590 | 4.5 | 21 |\n",
       "| -23.50 | 179.78 | 570 | 4.4 | 13 |\n",
       "| -22.63 | 180.31 | 598 | 4.4 | 18 |\n",
       "| -20.84 | 181.16 | 576 | 4.5 | 17 |\n",
       "| -10.98 | 166.32 | 211 | 4.2 | 12 |\n",
       "| -23.30 | 180.16 | 512 | 4.4 | 18 |\n",
       "| -30.20 | 182.00 | 125 | 4.7 | 22 |\n",
       "| -19.66 | 180.28 | 431 | 5.4 | 57 |\n",
       "| -17.94 | 181.49 | 537 | 4.0 | 15 |\n",
       "| -14.72 | 167.51 | 155 | 4.6 | 18 |\n",
       "| -16.46 | 180.79 | 498 | 5.2 | 79 |\n",
       "| -20.97 | 181.47 | 582 | 4.5 | 25 |\n",
       "| -19.84 | 182.37 | 328 | 4.4 | 17 |\n",
       "| ⋮ | ⋮ | ⋮ | ⋮ | ⋮ |\n",
       "| -25.79 | 182.38 | 172 | 4.4 |  14 |\n",
       "| -23.75 | 184.50 |  54 | 5.2 |  74 |\n",
       "| -24.10 | 184.50 |  68 | 4.7 |  23 |\n",
       "| -18.56 | 169.05 | 217 | 4.9 |  35 |\n",
       "| -23.30 | 184.68 | 102 | 4.9 |  27 |\n",
       "| -17.03 | 185.74 | 178 | 4.2 |  32 |\n",
       "| -20.77 | 183.71 | 251 | 4.4 |  47 |\n",
       "| -28.10 | 183.50 |  42 | 4.4 |  17 |\n",
       "| -18.83 | 182.26 | 575 | 4.3 |  11 |\n",
       "| -23.00 | 170.70 |  43 | 4.9 |  20 |\n",
       "| -20.82 | 181.67 | 577 | 5.0 |  67 |\n",
       "| -22.95 | 170.56 |  42 | 4.7 |  21 |\n",
       "| -28.22 | 183.60 |  75 | 4.9 |  49 |\n",
       "| -27.99 | 183.50 |  71 | 4.3 |  22 |\n",
       "| -15.54 | 187.15 |  60 | 4.5 |  17 |\n",
       "| -12.37 | 166.93 | 291 | 4.2 |  16 |\n",
       "| -22.33 | 171.66 | 125 | 5.2 |  51 |\n",
       "| -22.70 | 170.30 |  69 | 4.8 |  27 |\n",
       "| -17.86 | 181.30 | 614 | 4.0 |  12 |\n",
       "| -16.00 | 184.53 | 108 | 4.7 |  33 |\n",
       "| -20.73 | 181.42 | 575 | 4.3 |  18 |\n",
       "| -15.45 | 181.42 | 409 | 4.3 |  27 |\n",
       "| -20.05 | 183.86 | 243 | 4.9 |  65 |\n",
       "| -17.95 | 181.37 | 642 | 4.0 |  17 |\n",
       "| -17.70 | 188.10 |  45 | 4.2 |  10 |\n",
       "| -25.93 | 179.54 | 470 | 4.4 |  22 |\n",
       "| -12.28 | 167.06 | 248 | 4.7 |  35 |\n",
       "| -20.13 | 184.20 | 244 | 4.5 |  34 |\n",
       "| -17.40 | 187.80 |  40 | 4.5 |  14 |\n",
       "| -21.59 | 170.56 | 165 | 6.0 | 119 |\n",
       "\n"
      ],
      "text/plain": [
       "     lat    long   depth mag stations\n",
       "1    -20.42 181.62 562   4.8 41      \n",
       "2    -20.62 181.03 650   4.2 15      \n",
       "3    -26.00 184.10  42   5.4 43      \n",
       "4    -17.97 181.66 626   4.1 19      \n",
       "5    -20.42 181.96 649   4.0 11      \n",
       "6    -19.68 184.31 195   4.0 12      \n",
       "7    -11.70 166.10  82   4.8 43      \n",
       "8    -28.11 181.93 194   4.4 15      \n",
       "9    -28.74 181.74 211   4.7 35      \n",
       "10   -17.47 179.59 622   4.3 19      \n",
       "11   -21.44 180.69 583   4.4 13      \n",
       "12   -12.26 167.00 249   4.6 16      \n",
       "13   -18.54 182.11 554   4.4 19      \n",
       "14   -21.00 181.66 600   4.4 10      \n",
       "15   -20.70 169.92 139   6.1 94      \n",
       "16   -15.94 184.95 306   4.3 11      \n",
       "17   -13.64 165.96  50   6.0 83      \n",
       "18   -17.83 181.50 590   4.5 21      \n",
       "19   -23.50 179.78 570   4.4 13      \n",
       "20   -22.63 180.31 598   4.4 18      \n",
       "21   -20.84 181.16 576   4.5 17      \n",
       "22   -10.98 166.32 211   4.2 12      \n",
       "23   -23.30 180.16 512   4.4 18      \n",
       "24   -30.20 182.00 125   4.7 22      \n",
       "25   -19.66 180.28 431   5.4 57      \n",
       "26   -17.94 181.49 537   4.0 15      \n",
       "27   -14.72 167.51 155   4.6 18      \n",
       "28   -16.46 180.79 498   5.2 79      \n",
       "29   -20.97 181.47 582   4.5 25      \n",
       "30   -19.84 182.37 328   4.4 17      \n",
       "⋮    ⋮      ⋮      ⋮     ⋮   ⋮       \n",
       "971  -25.79 182.38 172   4.4  14     \n",
       "972  -23.75 184.50  54   5.2  74     \n",
       "973  -24.10 184.50  68   4.7  23     \n",
       "974  -18.56 169.05 217   4.9  35     \n",
       "975  -23.30 184.68 102   4.9  27     \n",
       "976  -17.03 185.74 178   4.2  32     \n",
       "977  -20.77 183.71 251   4.4  47     \n",
       "978  -28.10 183.50  42   4.4  17     \n",
       "979  -18.83 182.26 575   4.3  11     \n",
       "980  -23.00 170.70  43   4.9  20     \n",
       "981  -20.82 181.67 577   5.0  67     \n",
       "982  -22.95 170.56  42   4.7  21     \n",
       "983  -28.22 183.60  75   4.9  49     \n",
       "984  -27.99 183.50  71   4.3  22     \n",
       "985  -15.54 187.15  60   4.5  17     \n",
       "986  -12.37 166.93 291   4.2  16     \n",
       "987  -22.33 171.66 125   5.2  51     \n",
       "988  -22.70 170.30  69   4.8  27     \n",
       "989  -17.86 181.30 614   4.0  12     \n",
       "990  -16.00 184.53 108   4.7  33     \n",
       "991  -20.73 181.42 575   4.3  18     \n",
       "992  -15.45 181.42 409   4.3  27     \n",
       "993  -20.05 183.86 243   4.9  65     \n",
       "994  -17.95 181.37 642   4.0  17     \n",
       "995  -17.70 188.10  45   4.2  10     \n",
       "996  -25.93 179.54 470   4.4  22     \n",
       "997  -12.28 167.06 248   4.7  35     \n",
       "998  -20.13 184.20 244   4.5  34     \n",
       "999  -17.40 187.80  40   4.5  14     \n",
       "1000 -21.59 170.56 165   6.0 119     "
      ]
     },
     "metadata": {},
     "output_type": "display_data"
    }
   ],
   "source": [
    "# exercise 6\n"
   ]
  },
  {
   "cell_type": "markdown",
   "metadata": {},
   "source": [
    "### Exercise 7\n",
    "Load the dplyr package. Install and load the AER package and run the command data(\"Fertility\") which loads the dataset Fertility to your workspace. Take a glimpse() at the data."
   ]
  },
  {
   "cell_type": "code",
   "execution_count": 26,
   "metadata": {},
   "outputs": [
    {
     "name": "stderr",
     "output_type": "stream",
     "text": [
      "Warning message:\n",
      "\"package 'dplyr' was built under R version 3.6.3\"\n",
      "Attaching package: 'dplyr'\n",
      "\n",
      "The following objects are masked from 'package:stats':\n",
      "\n",
      "    filter, lag\n",
      "\n",
      "The following objects are masked from 'package:base':\n",
      "\n",
      "    intersect, setdiff, setequal, union\n",
      "\n"
     ]
    }
   ],
   "source": [
    "library(dplyr)"
   ]
  },
  {
   "cell_type": "code",
   "execution_count": 27,
   "metadata": {},
   "outputs": [
    {
     "name": "stderr",
     "output_type": "stream",
     "text": [
      "also installing the dependencies 'rprojroot', 'diffobj', 'brio', 'desc', 'pkgload', 'praise', 'ps', 'waldo', 'testthat', 'SparseM', 'MatrixModels', 'sp', 'minqa', 'nloptr', 'RcppEigen', 'carData', 'abind', 'pbkrtest', 'quantreg', 'maptools', 'lme4', 'car', 'lmtest', 'sandwich', 'Formula'\n",
      "\n"
     ]
    },
    {
     "name": "stdout",
     "output_type": "stream",
     "text": [
      "\n",
      "  There are binary versions available but the source versions are later:\n",
      "          binary source needs_compilation\n",
      "diffobj    0.3.4  0.3.5              TRUE\n",
      "brio       1.1.2  1.1.3              TRUE\n",
      "desc       1.3.0  1.4.0             FALSE\n",
      "pkgload    1.2.1  1.2.4             FALSE\n",
      "waldo      0.2.5  0.3.1             FALSE\n",
      "testthat   3.0.2  3.1.2              TRUE\n",
      "sp         1.4-5  1.4-6              TRUE\n",
      "nloptr   1.2.2.2  2.0.0              TRUE\n",
      "carData    3.0-4  3.0-5             FALSE\n",
      "quantreg    5.85   5.88              TRUE\n",
      "maptools   1.1-1  1.1-2              TRUE\n",
      "lme4      1.1-26 1.1-28              TRUE\n",
      "car       3.0-10 3.0-12             FALSE\n",
      "lmtest    0.9-38 0.9-39              TRUE\n",
      "sandwich   3.0-0  3.0-1             FALSE\n",
      "\n",
      "  Binaries will be installed\n",
      "package 'rprojroot' successfully unpacked and MD5 sums checked\n",
      "package 'diffobj' successfully unpacked and MD5 sums checked\n",
      "package 'brio' successfully unpacked and MD5 sums checked\n",
      "package 'praise' successfully unpacked and MD5 sums checked\n",
      "package 'ps' successfully unpacked and MD5 sums checked\n"
     ]
    },
    {
     "name": "stderr",
     "output_type": "stream",
     "text": [
      "Warning message:\n",
      "\"cannot remove prior installation of package 'ps'\"Warning message in file.copy(savedcopy, lib, recursive = TRUE):\n",
      "\"problem copying C:\\Users\\kahli\\Anaconda3\\envs\\r tut\\Lib\\R\\library\\00LOCK\\ps\\libs\\x64\\ps.dll to C:\\Users\\kahli\\Anaconda3\\envs\\r tut\\Lib\\R\\library\\ps\\libs\\x64\\ps.dll: Permission denied\"Warning message:\n",
      "\"restored 'ps'\""
     ]
    },
    {
     "name": "stdout",
     "output_type": "stream",
     "text": [
      "package 'testthat' successfully unpacked and MD5 sums checked\n",
      "package 'SparseM' successfully unpacked and MD5 sums checked\n",
      "package 'MatrixModels' successfully unpacked and MD5 sums checked\n",
      "package 'sp' successfully unpacked and MD5 sums checked\n",
      "package 'minqa' successfully unpacked and MD5 sums checked\n",
      "package 'nloptr' successfully unpacked and MD5 sums checked\n",
      "package 'RcppEigen' successfully unpacked and MD5 sums checked\n",
      "package 'abind' successfully unpacked and MD5 sums checked\n",
      "package 'pbkrtest' successfully unpacked and MD5 sums checked\n",
      "package 'quantreg' successfully unpacked and MD5 sums checked\n",
      "package 'maptools' successfully unpacked and MD5 sums checked\n",
      "package 'lme4' successfully unpacked and MD5 sums checked\n",
      "package 'lmtest' successfully unpacked and MD5 sums checked\n",
      "package 'Formula' successfully unpacked and MD5 sums checked\n",
      "package 'AER' successfully unpacked and MD5 sums checked\n",
      "\n",
      "The downloaded binary packages are in\n",
      "\tC:\\Users\\kahli\\AppData\\Local\\Temp\\RtmpQp5URc\\downloaded_packages\n"
     ]
    },
    {
     "name": "stderr",
     "output_type": "stream",
     "text": [
      "installing the source packages 'desc', 'pkgload', 'waldo', 'carData', 'car', 'sandwich'\n",
      "\n"
     ]
    }
   ],
   "source": [
    "install.packages(\"AER\")"
   ]
  },
  {
   "cell_type": "code",
   "execution_count": 28,
   "metadata": {},
   "outputs": [
    {
     "name": "stderr",
     "output_type": "stream",
     "text": [
      "Warning message:\n",
      "\"package 'AER' was built under R version 3.6.3\"Loading required package: car\n",
      "Loading required package: carData\n",
      "\n",
      "Attaching package: 'car'\n",
      "\n",
      "The following object is masked from 'package:dplyr':\n",
      "\n",
      "    recode\n",
      "\n",
      "Loading required package: lmtest\n",
      "Warning message:\n",
      "\"package 'lmtest' was built under R version 3.6.3\"Loading required package: zoo\n",
      "\n",
      "Attaching package: 'zoo'\n",
      "\n",
      "The following objects are masked from 'package:base':\n",
      "\n",
      "    as.Date, as.Date.numeric\n",
      "\n",
      "Loading required package: sandwich\n",
      "Loading required package: survival\n"
     ]
    }
   ],
   "source": [
    "library(AER)"
   ]
  },
  {
   "cell_type": "code",
   "execution_count": 33,
   "metadata": {},
   "outputs": [
    {
     "name": "stdout",
     "output_type": "stream",
     "text": [
      "Rows: 254,654\n",
      "Columns: 8\n",
      "$ morekids <fct> no, no, no, no, no, no, no, no, no, no, yes, no, no, no, no, ~\n",
      "$ gender1  <fct> male, female, male, male, female, male, female, male, female,~\n",
      "$ gender2  <fct> female, male, female, female, female, female, male, male, mal~\n",
      "$ age      <int> 27, 30, 27, 35, 30, 26, 29, 33, 29, 27, 28, 28, 35, 34, 32, 2~\n",
      "$ afam     <fct> no, no, no, yes, no, no, no, no, no, no, no, no, no, no, no, ~\n",
      "$ hispanic <fct> no, no, no, no, no, no, no, no, no, no, no, no, no, no, no, n~\n",
      "$ other    <fct> no, no, no, no, no, no, no, no, no, no, no, no, no, no, no, n~\n",
      "$ work     <int> 0, 30, 0, 0, 22, 40, 0, 52, 0, 0, 0, 52, 52, 52, 8, 7, 0, 40,~\n"
     ]
    }
   ],
   "source": [
    "# exercise 7\n",
    "data(\"Fertility\")\n",
    "glimpse(Fertility)"
   ]
  },
  {
   "cell_type": "markdown",
   "metadata": {},
   "source": [
    "### Exercise 8\n",
    "Select rows 35 to 50 and print to console its age and work entry."
   ]
  },
  {
   "cell_type": "code",
   "execution_count": 34,
   "metadata": {},
   "outputs": [
    {
     "data": {
      "text/html": [
       "<table>\n",
       "<thead><tr><th></th><th scope=col>age</th><th scope=col>work</th></tr></thead>\n",
       "<tbody>\n",
       "\t<tr><th scope=row>35</th><td>28</td><td>20</td></tr>\n",
       "\t<tr><th scope=row>36</th><td>33</td><td>12</td></tr>\n",
       "\t<tr><th scope=row>37</th><td>32</td><td> 0</td></tr>\n",
       "\t<tr><th scope=row>38</th><td>26</td><td>52</td></tr>\n",
       "\t<tr><th scope=row>39</th><td>32</td><td>52</td></tr>\n",
       "\t<tr><th scope=row>40</th><td>28</td><td> 0</td></tr>\n",
       "\t<tr><th scope=row>41</th><td>32</td><td>40</td></tr>\n",
       "\t<tr><th scope=row>42</th><td>35</td><td> 0</td></tr>\n",
       "\t<tr><th scope=row>43</th><td>33</td><td> 0</td></tr>\n",
       "\t<tr><th scope=row>44</th><td>32</td><td>42</td></tr>\n",
       "\t<tr><th scope=row>45</th><td>29</td><td> 0</td></tr>\n",
       "\t<tr><th scope=row>46</th><td>29</td><td>52</td></tr>\n",
       "\t<tr><th scope=row>47</th><td>31</td><td> 0</td></tr>\n",
       "\t<tr><th scope=row>48</th><td>30</td><td>51</td></tr>\n",
       "\t<tr><th scope=row>49</th><td>28</td><td> 0</td></tr>\n",
       "\t<tr><th scope=row>50</th><td>29</td><td> 0</td></tr>\n",
       "</tbody>\n",
       "</table>\n"
      ],
      "text/latex": [
       "\\begin{tabular}{r|ll}\n",
       "  & age & work\\\\\n",
       "\\hline\n",
       "\t35 & 28 & 20\\\\\n",
       "\t36 & 33 & 12\\\\\n",
       "\t37 & 32 &  0\\\\\n",
       "\t38 & 26 & 52\\\\\n",
       "\t39 & 32 & 52\\\\\n",
       "\t40 & 28 &  0\\\\\n",
       "\t41 & 32 & 40\\\\\n",
       "\t42 & 35 &  0\\\\\n",
       "\t43 & 33 &  0\\\\\n",
       "\t44 & 32 & 42\\\\\n",
       "\t45 & 29 &  0\\\\\n",
       "\t46 & 29 & 52\\\\\n",
       "\t47 & 31 &  0\\\\\n",
       "\t48 & 30 & 51\\\\\n",
       "\t49 & 28 &  0\\\\\n",
       "\t50 & 29 &  0\\\\\n",
       "\\end{tabular}\n"
      ],
      "text/markdown": [
       "\n",
       "| <!--/--> | age | work |\n",
       "|---|---|---|\n",
       "| 35 | 28 | 20 |\n",
       "| 36 | 33 | 12 |\n",
       "| 37 | 32 |  0 |\n",
       "| 38 | 26 | 52 |\n",
       "| 39 | 32 | 52 |\n",
       "| 40 | 28 |  0 |\n",
       "| 41 | 32 | 40 |\n",
       "| 42 | 35 |  0 |\n",
       "| 43 | 33 |  0 |\n",
       "| 44 | 32 | 42 |\n",
       "| 45 | 29 |  0 |\n",
       "| 46 | 29 | 52 |\n",
       "| 47 | 31 |  0 |\n",
       "| 48 | 30 | 51 |\n",
       "| 49 | 28 |  0 |\n",
       "| 50 | 29 |  0 |\n",
       "\n"
      ],
      "text/plain": [
       "   age work\n",
       "35 28  20  \n",
       "36 33  12  \n",
       "37 32   0  \n",
       "38 26  52  \n",
       "39 32  52  \n",
       "40 28   0  \n",
       "41 32  40  \n",
       "42 35   0  \n",
       "43 33   0  \n",
       "44 32  42  \n",
       "45 29   0  \n",
       "46 29  52  \n",
       "47 31   0  \n",
       "48 30  51  \n",
       "49 28   0  \n",
       "50 29   0  "
      ]
     },
     "metadata": {},
     "output_type": "display_data"
    }
   ],
   "source": [
    "# exercise 8\n",
    "Fertility[35:50,c(4,8)]"
   ]
  },
  {
   "cell_type": "markdown",
   "metadata": {},
   "source": [
    "### Exercise 9\n",
    "Select the last row in the dataset and print to console.\n"
   ]
  },
  {
   "cell_type": "code",
   "execution_count": 35,
   "metadata": {},
   "outputs": [
    {
     "data": {
      "text/html": [
       "<table>\n",
       "<thead><tr><th></th><th scope=col>morekids</th><th scope=col>gender1</th><th scope=col>gender2</th><th scope=col>age</th><th scope=col>afam</th><th scope=col>hispanic</th><th scope=col>other</th><th scope=col>work</th></tr></thead>\n",
       "<tbody>\n",
       "\t<tr><th scope=row>254654</th><td>yes   </td><td>female</td><td>female</td><td>35    </td><td>no    </td><td>no    </td><td>no    </td><td>0     </td></tr>\n",
       "</tbody>\n",
       "</table>\n"
      ],
      "text/latex": [
       "\\begin{tabular}{r|llllllll}\n",
       "  & morekids & gender1 & gender2 & age & afam & hispanic & other & work\\\\\n",
       "\\hline\n",
       "\t254654 & yes    & female & female & 35     & no     & no     & no     & 0     \\\\\n",
       "\\end{tabular}\n"
      ],
      "text/markdown": [
       "\n",
       "| <!--/--> | morekids | gender1 | gender2 | age | afam | hispanic | other | work |\n",
       "|---|---|---|---|---|---|---|---|---|\n",
       "| 254654 | yes    | female | female | 35     | no     | no     | no     | 0      |\n",
       "\n"
      ],
      "text/plain": [
       "       morekids gender1 gender2 age afam hispanic other work\n",
       "254654 yes      female  female  35  no   no       no    0   "
      ]
     },
     "metadata": {},
     "output_type": "display_data"
    }
   ],
   "source": [
    "# exercise 9\n",
    "tail(Fertility, 1)"
   ]
  },
  {
   "cell_type": "markdown",
   "metadata": {},
   "source": [
    "### Exercise 10\n",
    "Count how many women proceeded to have a third child."
   ]
  },
  {
   "cell_type": "code",
   "execution_count": 46,
   "metadata": {},
   "outputs": [
    {
     "data": {
      "text/html": [
       "<table>\n",
       "<thead><tr><th scope=col>morekids == \"yes\"</th><th scope=col>n</th></tr></thead>\n",
       "<tbody>\n",
       "\t<tr><td>FALSE </td><td>157742</td></tr>\n",
       "\t<tr><td> TRUE </td><td> 96912</td></tr>\n",
       "</tbody>\n",
       "</table>\n"
      ],
      "text/latex": [
       "\\begin{tabular}{r|ll}\n",
       " morekids == \"yes\" & n\\\\\n",
       "\\hline\n",
       "\t FALSE  & 157742\\\\\n",
       "\t  TRUE  &  96912\\\\\n",
       "\\end{tabular}\n"
      ],
      "text/markdown": [
       "\n",
       "| morekids == \"yes\" | n |\n",
       "|---|---|\n",
       "| FALSE  | 157742 |\n",
       "|  TRUE  |  96912 |\n",
       "\n"
      ],
      "text/plain": [
       "  morekids == \"yes\" n     \n",
       "1 FALSE             157742\n",
       "2  TRUE              96912"
      ]
     },
     "metadata": {},
     "output_type": "display_data"
    }
   ],
   "source": [
    "# exercise 10\n",
    "Fertility %>% count(morekids =='yes')\n"
   ]
  },
  {
   "cell_type": "markdown",
   "metadata": {},
   "source": [
    "### Exercise 11\n",
    "There are four possible gender combinations for the first two children. Which is the most common?"
   ]
  },
  {
   "cell_type": "code",
   "execution_count": 40,
   "metadata": {
    "scrolled": true
   },
   "outputs": [
    {
     "ename": "ERROR",
     "evalue": "Error in parse(text = x, srcfile = src): <text>:2:49: unexpected '='\n1: # exercise 11\n2: Fertility %>% count(gender1 == 'male' & gender2 =\n                                                   ^\n",
     "output_type": "error",
     "traceback": [
      "Error in parse(text = x, srcfile = src): <text>:2:49: unexpected '='\n1: # exercise 11\n2: Fertility %>% count(gender1 == 'male' & gender2 =\n                                                   ^\nTraceback:\n"
     ]
    }
   ],
   "source": [
    "# exercise 11\n"
   ]
  },
  {
   "cell_type": "code",
   "execution_count": null,
   "metadata": {},
   "outputs": [],
   "source": []
  }
 ],
 "metadata": {
  "kernelspec": {
   "display_name": "R",
   "language": "R",
   "name": "ir"
  },
  "language_info": {
   "codemirror_mode": "r",
   "file_extension": ".r",
   "mimetype": "text/x-r-source",
   "name": "R",
   "pygments_lexer": "r",
   "version": "3.6.2"
  }
 },
 "nbformat": 4,
 "nbformat_minor": 4
}
