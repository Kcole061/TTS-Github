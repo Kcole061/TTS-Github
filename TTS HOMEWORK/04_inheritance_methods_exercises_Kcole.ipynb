{
 "cells": [
  {
   "cell_type": "markdown",
   "metadata": {},
   "source": [
    "Data Science Fundamentals: Python |\n",
    "[Table of Contents](../index.ipynb)\n",
    "- - - \n",
    "<!--NAVIGATION-->\n",
    "Module 8. | [Inheritance & Methods](./01_oop_inheritance.ipynb) | [Sequences, Iterables, Generators Revisited](02_revisited.ipynb) | [Super()](./03_super().ipynb) | **[Exercises](./04_inheritance_methods_exercises.ipynb)**"
   ]
  },
  {
   "cell_type": "markdown",
   "metadata": {},
   "source": [
    "# Module 8: Practice Exercises"
   ]
  },
  {
   "cell_type": "markdown",
   "metadata": {},
   "source": [
    "## Exercise 1. "
   ]
  },
  {
   "cell_type": "markdown",
   "metadata": {},
   "source": [
    "You are given two classes, Person and Student, where Person is the base class and Student is the derived class. Completed code for Person and a declaration for Student are provided for you in the editor. Observe that Student inherits all the properties of Person.\n",
    "\n",
    "Complete the Student class by writing the following:\n",
    "\n",
    "A Student class constructor, which has 4 parameters:\n",
    "- A string, firstName\n",
    "- A string, lastName\n",
    "- An integer, id\n",
    "An integer array (or vector) of test scores, scores\n",
    "\n",
    "A char **calculate()** method that calculates a Student object's average and returns the grade character representative of their calculated average:\n",
    "```\n",
    "A | 90-100\n",
    "B | 80-89\n",
    "C | 70-79\n",
    "D | 60-69\n",
    "F | <60\n",
    "```"
   ]
  },
  {
   "cell_type": "code",
   "execution_count": 25,
   "metadata": {},
   "outputs": [
    {
     "name": "stdout",
     "output_type": "stream",
     "text": [
      "First name: Kahlil\n",
      "Last name: Cole\n",
      "Student ID: 6923\n",
      "Enter a list of grades separated by space: 100 90 90 90 90\n",
      "A\n"
     ]
    }
   ],
   "source": [
    "class Person:\n",
    "    '''Docstring Here'''\n",
    "    def __init__(self,fname,lname):\n",
    "        self.fname = fname\n",
    "        self.lname = lname\n",
    "        \n",
    "class Student(Person):\n",
    "    \"\"\"docstring here\"\"\"\n",
    "    def __init__(self,fname,lname,student_id):\n",
    "        Person.__init__(self,fname,lname)\n",
    "        self.student_id = int(student_id)\n",
    "        \n",
    "        \n",
    "        \n",
    "        \n",
    "    def calculate(gradeAvg,grades):\n",
    "        \"\"\"docstring here\"\"\"\n",
    "        #grade calculation goes here\n",
    "        gradeAvg = sum(grades)/len(grades)\n",
    "        if gradeAvg >= 90:\n",
    "             print(\"A\")\n",
    "        elif gradeAvg >= 80:\n",
    "            print(\"B\")\n",
    "        elif gradeAvg >= 70:\n",
    "             print(\"C\")\n",
    "        elif gradeAvg >= 60:\n",
    "             print(\"D\")\n",
    "        else :\n",
    "             print(\"F\")\n",
    "        \n",
    "        \n",
    "\n",
    "person1 = Student(str(input(\"First name: \")),str(input(\"Last name: \")), int(input(\"Student ID: \")))\n",
    "grades = input(\"Enter a list of grades separated by space: \")\n",
    "grades = list(map(int, grades.split()))\n",
    "person1.calculate(grades)\n",
    "        "
   ]
  },
  {
   "cell_type": "code",
   "execution_count": 9,
   "metadata": {},
   "outputs": [
    {
     "name": "stdout",
     "output_type": "stream",
     "text": [
      "Enter score 1: 85\n",
      "Enter score 2: 90\n",
      "Enter score 3: 80\n",
      "Enter score 4: 90\n",
      "Enter score 5: 96\n",
      "score       numeric grade       letter grade\n",
      "--------------------------------------------------\n",
      "score 1:           85.0          B\n",
      "score 2:           90.0          A\n",
      "score 3:           80.0          B\n",
      "score 4:           90.0          A\n",
      "score 5:           96.0          A\n",
      "--------------------------------------------------\n",
      "Average score:         88.2        B\n"
     ]
    }
   ],
   "source": [
    "# I did this question for part of an assignment in college.\n",
    "def main():\n",
    "    scores = []\n",
    "    num = float(input(\"Enter score 1: \"))\n",
    "    scores.append(num)\n",
    "    num = float(input(\"Enter score 2: \"))\n",
    "    scores.append(num)\n",
    "    num = float(input(\"Enter score 3: \"))\n",
    "    scores.append(num)\n",
    "    num = float(input(\"Enter score 4: \"))\n",
    "    scores.append(num)\n",
    "    num = float(input(\"Enter score 5: \"))\n",
    "    scores.append(num)\n",
    "    print(\"score\",\"numeric grade\",\"letter grade\", sep=\"       \")\n",
    "    print(\"-\"*50)\n",
    "    print(\"score 1: \",scores[0],determine_Grade(scores[0]), sep=\" \"*10)\n",
    "    print(\"score 2: \",scores[1],determine_Grade(scores[1]), sep=\" \"*10)\n",
    "    print(\"score 3: \",scores[2],determine_Grade(scores[2]), sep=\" \"*10)\n",
    "    print(\"score 4: \",scores[3],determine_Grade(scores[3]), sep=\" \"*10)\n",
    "    print(\"score 5: \",scores[4],determine_Grade(scores[4]), sep=\" \"*10)\n",
    "    print(\"-\"*50)\n",
    "    print(\"Average score: \",calc_Average(scores), determine_Grade(calc_Average(scores)), sep=\" \"*8)\n",
    "    \n",
    "def determine_Grade(scores):\n",
    "    if scores >= 90:\n",
    "        grade = \"A\"\n",
    "    elif scores >= 80:\n",
    "        grade = \"B\"\n",
    "    elif scores >= 70:\n",
    "        grade = \"C\"\n",
    "    elif scores >= 60:\n",
    "        grade = \"D\"\n",
    "    elif scores < 60:\n",
    "        grade = \"F\"\n",
    "    return grade\n",
    "    \n",
    "def calc_Average(scores):\n",
    "    average = sum(scores) / len(scores)\n",
    "    return average\n",
    "main()\n",
    "\n",
    "\n",
    "# determine_Grade(scores) function is used to detemine the grade from the score input from the user\n",
    "# calc_Average(scores) function is used to determine the average score and grade from user scores\n",
    "# The main function has the scores list given from the user and is formatted to display the scores the user gave and the correct grade to match the score"
   ]
  },
  {
   "cell_type": "markdown",
   "metadata": {},
   "source": [
    "- - - \n",
    "<!--NAVIGATION-->\n",
    "Module 8. | [Inheritance & Methods](./01_oop_inheritance.ipynb) | [Sequences, Iterables, Generators Revisited](02_revisited.ipynb) | [Super()](./03_super().ipynb) | **[Exercises](./04_inheritance_methods_exercises.ipynb)**\n",
    "\n",
    "[Top](#)"
   ]
  },
  {
   "cell_type": "markdown",
   "metadata": {},
   "source": [
    "- - -\n",
    "\n",
    "Copyright © 2020 Qualex Consulting Services Incorporated."
   ]
  }
 ],
 "metadata": {
  "kernelspec": {
   "display_name": "Python 3",
   "language": "python",
   "name": "python3"
  },
  "language_info": {
   "codemirror_mode": {
    "name": "ipython",
    "version": 3
   },
   "file_extension": ".py",
   "mimetype": "text/x-python",
   "name": "python",
   "nbconvert_exporter": "python",
   "pygments_lexer": "ipython3",
   "version": "3.7.6"
  }
 },
 "nbformat": 4,
 "nbformat_minor": 4
}
